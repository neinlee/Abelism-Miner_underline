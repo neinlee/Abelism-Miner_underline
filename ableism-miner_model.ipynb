{
 "cells": [
  {
   "cell_type": "code",
   "execution_count": 2,
   "id": "764c6e61",
   "metadata": {},
   "outputs": [],
   "source": [
    "import pandas as pd\n",
    "from sklearn.model_selection import train_test_split\n",
    "from transformers import BertTokenizer\n",
    "import torch\n",
    "from transformers import BertForSequenceClassification, Trainer, TrainingArguments"
   ]
  },
  {
   "cell_type": "markdown",
   "id": "cd259c1c",
   "metadata": {},
   "source": [
    "데이터 로드"
   ]
  },
  {
   "cell_type": "code",
   "execution_count": 22,
   "id": "633f8c02",
   "metadata": {},
   "outputs": [],
   "source": [
    "df1 = pd.read_csv('ndata_final_labeled.csv')\n",
    "df2 = pd.read_csv('ChatGPT 생성 댓글.txt', header=None, names=['comments'], sep = '\\n')\n",
    "df2[['hate']]=1\n",
    "df = pd.concat([df1[['comments', 'hate']], df2,])"
   ]
  },
  {
   "cell_type": "code",
   "execution_count": null,
   "id": "6d950ea9",
   "metadata": {},
   "outputs": [],
   "source": []
  },
  {
   "cell_type": "markdown",
   "id": "4de92dfe",
   "metadata": {},
   "source": [
    "KcBert-base"
   ]
  },
  {
   "cell_type": "code",
   "execution_count": 13,
   "id": "12944a99",
   "metadata": {},
   "outputs": [],
   "source": [
    "df1 = pd.read_csv('ndata_final_labeled.csv')\n",
    "df2 = pd.read_csv('ChatGPT 생성 댓글.txt', header=None, names=['comments'], sep = '\\n')\n",
    "df2[['hate']]=1\n",
    "df = pd.concat([df1[['comments', 'hate']], df2,])"
   ]
  },
  {
   "cell_type": "code",
   "execution_count": 25,
   "id": "fd1ea056",
   "metadata": {},
   "outputs": [],
   "source": [
    "#df = pd.read_csv('./ndata_final_labeled.csv')\n",
    "comments = df['comments'].tolist()\n",
    "labels = df['hate'].tolist()\n",
    "\n",
    "#학습 & 검증 데이터셋 분리\n",
    "train_texts, eval_texts, train_labels, eval_labels = train_test_split(comments, labels, test_size=0.2, random_state=42)"
   ]
  },
  {
   "cell_type": "code",
   "execution_count": 6,
   "id": "9b1c115b",
   "metadata": {},
   "outputs": [],
   "source": [
    "##KcBERT 로드\n",
    "from transformers import AutoTokenizer, AutoModelWithLMHead\n",
    "# Base Model (108M)\n",
    "tokenizer = AutoTokenizer.from_pretrained(\"beomi/kcbert-base\")\n",
    "#model = AutoModelWithLMHead.from_pretrained(\"beomi/kcbert-base\")\n",
    "\n",
    "# Large Model (334M)\n",
    "#tokenizer = AutoTokenizer.from_pretrained(\"beomi/kcbert-large\")\n",
    "#model = AutoModelWithLMHead.from_pretrained(\"beomi/kcbert-large\")"
   ]
  },
  {
   "cell_type": "code",
   "execution_count": 7,
   "id": "11e82d90",
   "metadata": {},
   "outputs": [],
   "source": [
    "from transformers import AutoModelForSequenceClassification, TrainingArguments, Trainer"
   ]
  },
  {
   "cell_type": "code",
   "execution_count": 27,
   "id": "1e6a184d",
   "metadata": {},
   "outputs": [],
   "source": [
    "def tokenize(texts, labels):\n",
    "    if isinstance(texts, pd.Series):\n",
    "        texts = texts.tolist()\n",
    "    elif not isinstance(texts, list):\n",
    "        raise ValueError(\"texts should be a list of strings\")\n",
    "    \n",
    "    encodings = tokenizer(texts, padding=True, truncation=True, return_tensors=\"pt\")\n",
    "    return encodings, torch.tensor(labels)  # Convert labels to a tensor\n"
   ]
  },
  {
   "cell_type": "code",
   "execution_count": 28,
   "id": "652d7dc2",
   "metadata": {},
   "outputs": [],
   "source": [
    "# Example assuming a straightforward approach\n",
    "train_texts = df['comments'].astype(str).tolist()  \n",
    "train_labels = df['hate'].tolist()  \n",
    "\n",
    "eval_texts = df['comments'].astype(str).tolist() \n",
    "eval_labels = df['hate'].tolist()  \n",
    "\n",
    "# 토큰화\n",
    "train_encodings, train_labels = tokenize(train_texts, train_labels)\n",
    "eval_encodings, eval_labels = tokenize(eval_texts, eval_labels)"
   ]
  },
  {
   "cell_type": "code",
   "execution_count": 29,
   "id": "920c4c04",
   "metadata": {},
   "outputs": [],
   "source": [
    "import torch\n",
    "from torch.utils.data import Dataset\n",
    "\n",
    "class HateSpeechDataset(Dataset):\n",
    "    def __init__(self, encodings, labels):\n",
    "        self.encodings = encodings\n",
    "        self.labels = labels\n",
    "\n",
    "    def __len__(self):\n",
    "        return len(self.labels)\n",
    "\n",
    "    def __getitem__(self, idx):\n",
    "        item = {key: val[idx] for key, val in self.encodings.items()}\n",
    "        item['labels'] = torch.tensor(self.labels[idx], dtype=torch.long)\n",
    "        return item\n",
    "\n",
    "# PyTorch 데이터셋 생성\n",
    "train_dataset = HateSpeechDataset(train_encodings, train_labels)\n",
    "eval_dataset = HateSpeechDataset(eval_encodings, eval_labels)"
   ]
  },
  {
   "cell_type": "code",
   "execution_count": 30,
   "id": "5b954b74",
   "metadata": {
    "scrolled": true
   },
   "outputs": [
    {
     "name": "stderr",
     "output_type": "stream",
     "text": [
      "Some weights of the model checkpoint at beomi/kcbert-base were not used when initializing BertForSequenceClassification: ['cls.predictions.transform.LayerNorm.weight', 'cls.predictions.bias', 'cls.predictions.transform.dense.bias', 'cls.predictions.transform.LayerNorm.bias', 'cls.seq_relationship.bias', 'cls.predictions.transform.dense.weight', 'cls.seq_relationship.weight']\n",
      "- This IS expected if you are initializing BertForSequenceClassification from the checkpoint of a model trained on another task or with another architecture (e.g. initializing a BertForSequenceClassification model from a BertForPreTraining model).\n",
      "- This IS NOT expected if you are initializing BertForSequenceClassification from the checkpoint of a model that you expect to be exactly identical (initializing a BertForSequenceClassification model from a BertForSequenceClassification model).\n",
      "Some weights of BertForSequenceClassification were not initialized from the model checkpoint at beomi/kcbert-base and are newly initialized: ['classifier.weight', 'classifier.bias']\n",
      "You should probably TRAIN this model on a down-stream task to be able to use it for predictions and inference.\n",
      "c:\\users\\user\\appdata\\local\\programs\\python\\python37\\lib\\site-packages\\transformers\\optimization.py:415: FutureWarning: This implementation of AdamW is deprecated and will be removed in a future version. Use the PyTorch implementation torch.optim.AdamW instead, or set `no_deprecation_warning=True` to disable this warning\n",
      "  FutureWarning,\n",
      "c:\\users\\user\\appdata\\local\\programs\\python\\python37\\lib\\site-packages\\ipykernel_launcher.py:14: UserWarning: To copy construct from a tensor, it is recommended to use sourceTensor.clone().detach() or sourceTensor.clone().detach().requires_grad_(True), rather than torch.tensor(sourceTensor).\n",
      "  \n"
     ]
    },
    {
     "data": {
      "text/html": [
       "\n",
       "    <div>\n",
       "      \n",
       "      <progress value='201' max='201' style='width:300px; height:20px; vertical-align: middle;'></progress>\n",
       "      [201/201 1:04:16, Epoch 3/3]\n",
       "    </div>\n",
       "    <table border=\"1\" class=\"dataframe\">\n",
       "  <thead>\n",
       " <tr style=\"text-align: left;\">\n",
       "      <th>Epoch</th>\n",
       "      <th>Training Loss</th>\n",
       "      <th>Validation Loss</th>\n",
       "    </tr>\n",
       "  </thead>\n",
       "  <tbody>\n",
       "    <tr>\n",
       "      <td>1</td>\n",
       "      <td>0.125200</td>\n",
       "      <td>0.070439</td>\n",
       "    </tr>\n",
       "    <tr>\n",
       "      <td>2</td>\n",
       "      <td>0.143200</td>\n",
       "      <td>0.082697</td>\n",
       "    </tr>\n",
       "    <tr>\n",
       "      <td>3</td>\n",
       "      <td>0.035300</td>\n",
       "      <td>0.014588</td>\n",
       "    </tr>\n",
       "  </tbody>\n",
       "</table><p>"
      ],
      "text/plain": [
       "<IPython.core.display.HTML object>"
      ]
     },
     "metadata": {},
     "output_type": "display_data"
    },
    {
     "name": "stderr",
     "output_type": "stream",
     "text": [
      "c:\\users\\user\\appdata\\local\\programs\\python\\python37\\lib\\site-packages\\ipykernel_launcher.py:14: UserWarning: To copy construct from a tensor, it is recommended to use sourceTensor.clone().detach() or sourceTensor.clone().detach().requires_grad_(True), rather than torch.tensor(sourceTensor).\n",
      "  \n",
      "c:\\users\\user\\appdata\\local\\programs\\python\\python37\\lib\\site-packages\\ipykernel_launcher.py:14: UserWarning: To copy construct from a tensor, it is recommended to use sourceTensor.clone().detach() or sourceTensor.clone().detach().requires_grad_(True), rather than torch.tensor(sourceTensor).\n",
      "  \n"
     ]
    }
   ],
   "source": [
    "from transformers import AutoModelForSequenceClassification, TrainingArguments, Trainer\n",
    "\n",
    "# KcBERT model 로드\n",
    "model = AutoModelForSequenceClassification.from_pretrained(\"beomi/kcbert-base\", num_labels=2)\n",
    "\n",
    "# Set up training arguments\n",
    "training_args = TrainingArguments(\n",
    "    output_dir='./results',\n",
    "    num_train_epochs=3,\n",
    "    per_device_train_batch_size=16,\n",
    "    per_device_eval_batch_size=16,\n",
    "    evaluation_strategy=\"epoch\",\n",
    "    save_strategy=\"epoch\",\n",
    "    logging_dir='./logs',\n",
    "    logging_steps=10,\n",
    ")\n",
    "\n",
    "# Initialize the Trainer\n",
    "trainer = Trainer(\n",
    "    model=model,\n",
    "    args=training_args,\n",
    "    train_dataset=train_dataset,\n",
    "    eval_dataset=eval_dataset,\n",
    ")\n",
    "\n",
    "# Train the model\n",
    "trainer.train()\n",
    "\n",
    "# 모델 저장\n",
    "model.save_pretrained('./kcbert_hate_speech_model')\n"
   ]
  },
  {
   "cell_type": "code",
   "execution_count": 8,
   "id": "5f81ba8a",
   "metadata": {},
   "outputs": [],
   "source": [
    "# 학습된 모델 및 토크나이저 로드\n",
    "trained_model = AutoModelForSequenceClassification.from_pretrained('./kcbert_hate_speech_model')\n",
    "trained_tokenizer = AutoTokenizer.from_pretrained(\"beomi/kcbert-base\")\n",
    "\n",
    "# 예측 함수\n",
    "def predict(text):\n",
    "    inputs = trained_tokenizer(text, return_tensors=\"pt\", padding=True, truncation=True)\n",
    "    outputs = trained_model(**inputs)\n",
    "    probabilities = torch.nn.functional.softmax(outputs.logits, dim=-1)\n",
    "    return probabilities.detach().numpy()"
   ]
  },
  {
   "cell_type": "code",
   "execution_count": 31,
   "id": "68c2eb48",
   "metadata": {},
   "outputs": [
    {
     "name": "stdout",
     "output_type": "stream",
     "text": [
      "\"ㅄ이니?\" [[0.01081149 0.9891885 ]]\n",
      "\"일본인이니?\" [[0.99678266 0.00321729]]\n",
      "\"페미들이랑 똑같노\" [[0.99743575 0.00256424]]\n",
      "\"페미들이랑 똑같노 능지 수준 알 만하다\" [[0.1945404 0.8054596]]\n",
      "\"장애인들이 세금을 좀먹는다\" [[0.00139185 0.9986082 ]]\n"
     ]
    }
   ],
   "source": [
    "print(\"\\\"ㅄ이니?\\\"\", predict(\"ㅄ이니?\"))\n",
    "print(\"\\\"일본인이니?\\\"\", predict(\"일본인이니?\"))\n",
    "print(\"\\\"페미들이랑 똑같노\\\"\", predict(\"페미들이랑 똑같노\"))\n",
    "print(\"\\\"페미들이랑 똑같노 능지 수준 알 만하다\\\"\", predict(\"페미들이랑 똑같노 능지 수준 알 만하다\"))\n",
    "print(\"\\\"장애인들이 세금을 좀먹는다\\\"\", predict(\"장애인들이 세금을 좀먹는다\"))"
   ]
  },
  {
   "cell_type": "code",
   "execution_count": 30,
   "id": "73b7ee41",
   "metadata": {},
   "outputs": [
    {
     "name": "stdout",
     "output_type": "stream",
     "text": [
      "[[0.95490354 0.04509645]]\n"
     ]
    }
   ],
   "source": [
    "print(predict('너 능지가 처참한 수준이구나'))"
   ]
  },
  {
   "cell_type": "code",
   "execution_count": null,
   "id": "8d3ca5af",
   "metadata": {},
   "outputs": [],
   "source": []
  }
 ],
 "metadata": {
  "kernelspec": {
   "display_name": "Python 3 (ipykernel)",
   "language": "python",
   "name": "python3"
  },
  "language_info": {
   "codemirror_mode": {
    "name": "ipython",
    "version": 3
   },
   "file_extension": ".py",
   "mimetype": "text/x-python",
   "name": "python",
   "nbconvert_exporter": "python",
   "pygments_lexer": "ipython3",
   "version": "3.7.9"
  }
 },
 "nbformat": 4,
 "nbformat_minor": 5
}
